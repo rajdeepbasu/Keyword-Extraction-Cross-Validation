{
  "nbformat": 4,
  "nbformat_minor": 0,
  "metadata": {
    "colab": {
      "name": "Keyword extraction & Cross Validation using BERT",
      "provenance": [],
      "collapsed_sections": []
    },
    "kernelspec": {
      "name": "python3",
      "display_name": "Python 3"
    },
    "language_info": {
      "name": "python"
    },
    "accelerator": "GPU"
  },
  "cells": [
    {
      "cell_type": "code",
      "execution_count": 112,
      "metadata": {
        "id": "9DHBJsJJp4Ni"
      },
      "outputs": [],
      "source": [
        "# !pip install spacy transformers\n",
        "# !pip install sematch\n",
        "# !pip install sentence_transformers"
      ]
    },
    {
      "cell_type": "code",
      "source": [
        "# !wget \"https://s3.amazonaws.com/dl4j-distribution/GoogleNews-vectors-negative300.bin.gz\""
      ],
      "metadata": {
        "id": "ofuIr8EJ1syP"
      },
      "execution_count": 113,
      "outputs": []
    },
    {
      "cell_type": "code",
      "source": [
        "text = \"\"\"\n",
        "        Contemporary climate change includes both the global warming caused by humans, \n",
        "        and its impacts on Earth's weather patterns. There have been previous periods of climate change,\n",
        "        but the current changes are more rapid than any known events in Earth's history.\n",
        "        The main cause is the emission of greenhouse gases, mostly carbon dioxide (CO2) and methane. \n",
        "        Burning fossil fuels for energy use creates most of these emissions. \n",
        "        Agriculture, steelmaking, cement production, and forest loss are additional sources.\n",
        "        Temperature rise is also affected by climate feedbacks such as the loss of sunlight-reflecting snow cover, \n",
        "        and the release of carbon dioxide from drought-stricken forests. \n",
        "        Collectively, these amplify global warming.\n",
        "      \"\"\""
      ],
      "metadata": {
        "id": "PkBpJfGrqXdt"
      },
      "execution_count": 114,
      "outputs": []
    },
    {
      "cell_type": "code",
      "source": [
        "from sklearn.feature_extraction.text import CountVectorizer\n",
        "from gensim.models import KeyedVectors\n",
        "from sklearn.metrics.pairwise import cosine_similarity\n",
        "import numpy as np\n",
        "\n",
        "n_gram_range = (1, 3)\n",
        "stop_words = \"english\"\n",
        "\n",
        "# Extract candidate words/phrases\n",
        "count = CountVectorizer(ngram_range=n_gram_range, stop_words=stop_words).fit([text])\n",
        "all_candidates = count.get_feature_names()"
      ],
      "metadata": {
        "colab": {
          "base_uri": "https://localhost:8080/"
        },
        "id": "JaitdDFAqk8o",
        "outputId": "0035a809-521e-485b-a986-e7d6df02c928"
      },
      "execution_count": 167,
      "outputs": [
        {
          "output_type": "stream",
          "name": "stderr",
          "text": [
            "/usr/local/lib/python3.7/dist-packages/sklearn/utils/deprecation.py:87: FutureWarning: Function get_feature_names is deprecated; get_feature_names is deprecated in 1.0 and will be removed in 1.2. Please use get_feature_names_out instead.\n",
            "  warnings.warn(msg, category=FutureWarning)\n"
          ]
        }
      ]
    },
    {
      "cell_type": "code",
      "source": [
        "all_candidates[:10]"
      ],
      "metadata": {
        "colab": {
          "base_uri": "https://localhost:8080/"
        },
        "id": "FzU1gzMyqm2n",
        "outputId": "dc294fbf-3e93-4ae8-850a-684f244583da"
      },
      "execution_count": 116,
      "outputs": [
        {
          "output_type": "execute_result",
          "data": {
            "text/plain": [
              "['additional',\n",
              " 'additional sources',\n",
              " 'additional sources temperature',\n",
              " 'affected',\n",
              " 'affected climate',\n",
              " 'affected climate feedbacks',\n",
              " 'agriculture',\n",
              " 'agriculture steelmaking',\n",
              " 'agriculture steelmaking cement',\n",
              " 'amplify']"
            ]
          },
          "metadata": {},
          "execution_count": 116
        }
      ]
    },
    {
      "cell_type": "code",
      "source": [
        "import spacy\n",
        "\n",
        "nlp = spacy.load('en_core_web_sm')\n",
        "doc = nlp(text)\n",
        "noun_phrases = set(chunk.text.strip().lower() for chunk in doc.noun_chunks)"
      ],
      "metadata": {
        "id": "QhZS7EAKqrQp"
      },
      "execution_count": 117,
      "outputs": []
    },
    {
      "cell_type": "code",
      "source": [
        "nouns = set()\n",
        "for token in doc:\n",
        "    if token.pos_ == \"NOUN\":\n",
        "        nouns.add(token.text)"
      ],
      "metadata": {
        "id": "xFXzPiYbqtR5"
      },
      "execution_count": 118,
      "outputs": []
    },
    {
      "cell_type": "code",
      "source": [
        "all_nouns = nouns.union(noun_phrases)"
      ],
      "metadata": {
        "id": "HI3w9bmmqvzH"
      },
      "execution_count": 119,
      "outputs": []
    },
    {
      "cell_type": "code",
      "source": [
        "candidates = list(filter(lambda candidate: candidate in all_nouns, all_candidates))"
      ],
      "metadata": {
        "id": "LERTP_Y2qxmE"
      },
      "execution_count": 120,
      "outputs": []
    },
    {
      "cell_type": "code",
      "source": [
        "candidates[:10]"
      ],
      "metadata": {
        "colab": {
          "base_uri": "https://localhost:8080/"
        },
        "id": "d2XhEFXgrKuI",
        "outputId": "f7c524a4-ede5-4eff-d0c0-5dfe74d84419"
      },
      "execution_count": 121,
      "outputs": [
        {
          "output_type": "execute_result",
          "data": {
            "text/plain": [
              "['additional sources',\n",
              " 'agriculture',\n",
              " 'burning fossil fuels',\n",
              " 'carbon',\n",
              " 'carbon dioxide',\n",
              " 'cause',\n",
              " 'cement',\n",
              " 'cement production',\n",
              " 'change',\n",
              " 'changes']"
            ]
          },
          "metadata": {},
          "execution_count": 121
        }
      ]
    },
    {
      "cell_type": "code",
      "source": [
        "from transformers import AutoModel, AutoTokenizer"
      ],
      "metadata": {
        "id": "lpDGbyg-rL6K"
      },
      "execution_count": 122,
      "outputs": []
    },
    {
      "cell_type": "code",
      "source": [
        "model_name = \"distilroberta-base\"\n",
        "model = AutoModel.from_pretrained(model_name)\n",
        "tokenizer = AutoTokenizer.from_pretrained(model_name)"
      ],
      "metadata": {
        "colab": {
          "base_uri": "https://localhost:8080/"
        },
        "id": "YHoMccWlrOhS",
        "outputId": "7404b161-dbc7-4268-d63b-a60c95a7ecc2"
      },
      "execution_count": 123,
      "outputs": [
        {
          "output_type": "stream",
          "name": "stderr",
          "text": [
            "Some weights of the model checkpoint at distilroberta-base were not used when initializing RobertaModel: ['lm_head.layer_norm.bias', 'lm_head.layer_norm.weight', 'lm_head.dense.bias', 'lm_head.decoder.weight', 'lm_head.dense.weight', 'lm_head.bias']\n",
            "- This IS expected if you are initializing RobertaModel from the checkpoint of a model trained on another task or with another architecture (e.g. initializing a BertForSequenceClassification model from a BertForPreTraining model).\n",
            "- This IS NOT expected if you are initializing RobertaModel from the checkpoint of a model that you expect to be exactly identical (initializing a BertForSequenceClassification model from a BertForSequenceClassification model).\n"
          ]
        }
      ]
    },
    {
      "cell_type": "code",
      "source": [
        "candidate_tokens = tokenizer(candidates, padding=True, return_tensors=\"pt\")\n",
        "candidate_embeddings = model(**candidate_tokens)[\"pooler_output\"]"
      ],
      "metadata": {
        "id": "koQDBj7XrPyL"
      },
      "execution_count": 124,
      "outputs": []
    },
    {
      "cell_type": "code",
      "source": [
        "candidate_embeddings.shape"
      ],
      "metadata": {
        "colab": {
          "base_uri": "https://localhost:8080/"
        },
        "id": "DRqU8CsNrRp3",
        "outputId": "7e082122-1b7b-45e4-d9bd-84b4ffa13cd3"
      },
      "execution_count": 125,
      "outputs": [
        {
          "output_type": "execute_result",
          "data": {
            "text/plain": [
              "torch.Size([51, 768])"
            ]
          },
          "metadata": {},
          "execution_count": 125
        }
      ]
    },
    {
      "cell_type": "code",
      "source": [
        "text_tokens = tokenizer([text], padding=True, return_tensors=\"pt\")\n",
        "text_embedding = model(**text_tokens)[\"pooler_output\"]"
      ],
      "metadata": {
        "id": "78R-Zuk0rTYF"
      },
      "execution_count": 126,
      "outputs": []
    },
    {
      "cell_type": "code",
      "source": [
        "text_embedding.shape"
      ],
      "metadata": {
        "colab": {
          "base_uri": "https://localhost:8080/"
        },
        "id": "SpSjvjcyrlpZ",
        "outputId": "67316426-f142-40a0-b2f0-443ea9b91109"
      },
      "execution_count": 127,
      "outputs": [
        {
          "output_type": "execute_result",
          "data": {
            "text/plain": [
              "torch.Size([1, 768])"
            ]
          },
          "metadata": {},
          "execution_count": 127
        }
      ]
    },
    {
      "cell_type": "code",
      "source": [
        "candidate_embeddings = candidate_embeddings.detach().numpy()\n",
        "text_embedding = text_embedding.detach().numpy()"
      ],
      "metadata": {
        "id": "tTkjpROrro6B"
      },
      "execution_count": 128,
      "outputs": []
    },
    {
      "cell_type": "code",
      "source": [
        "from sklearn.metrics.pairwise import cosine_similarity\n",
        "\n",
        "top_k = 5\n",
        "distances = cosine_similarity(text_embedding, candidate_embeddings)\n",
        "keywords = [candidates[index] for index in distances.argsort()[0][-top_k:]]"
      ],
      "metadata": {
        "id": "Yb54a0YhrsP1"
      },
      "execution_count": 129,
      "outputs": []
    },
    {
      "cell_type": "code",
      "source": [
        "keywords"
      ],
      "metadata": {
        "colab": {
          "base_uri": "https://localhost:8080/"
        },
        "id": "YqTg-CqIrzIk",
        "outputId": "ee65683b-4c5a-41c3-e3ef-f5f0789e7c31"
      },
      "execution_count": 130,
      "outputs": [
        {
          "output_type": "execute_result",
          "data": {
            "text/plain": [
              "['climate',\n",
              " 'burning fossil fuels',\n",
              " 'climate feedbacks',\n",
              " 'climate change',\n",
              " 'contemporary climate change']"
            ]
          },
          "metadata": {},
          "execution_count": 130
        }
      ]
    },
    {
      "cell_type": "code",
      "source": [
        "ref_list = [\"climate\", \"fossil\", \"energy\"]"
      ],
      "metadata": {
        "id": "rQbL3zfR4nx5"
      },
      "execution_count": 132,
      "outputs": []
    },
    {
      "cell_type": "code",
      "source": [
        "# word_vectors = KeyedVectors.load_word2vec_format('GoogleNews-vectors-negative300.bin.gz', binary=True)"
      ],
      "metadata": {
        "id": "f_2pTWCb1gBJ"
      },
      "execution_count": 131,
      "outputs": []
    },
    {
      "cell_type": "code",
      "source": [
        "# v_ref = word_vectors['contemporary climate change']\n",
        "# v_orig = word_vectors['climate']\n",
        "# cosine_similarity([v_ref],[v_orig])[0][0]"
      ],
      "metadata": {
        "id": "5Ak1x7iQ2QUH"
      },
      "execution_count": 133,
      "outputs": []
    },
    {
      "cell_type": "code",
      "source": [
        "# #calculate distance between two sentences using WMD algorithm\n",
        "# distance = word_vectors.wmdistance('contemporary climate change', 'fossil fuel')\n",
        "\n",
        "# print ('distance = %.3f' % distance)"
      ],
      "metadata": {
        "id": "tLjK-CRu30xe"
      },
      "execution_count": 134,
      "outputs": []
    },
    {
      "cell_type": "code",
      "source": [
        "# word_vectors.wv.n_similarity('contemporary climate change'.lower().split(), 'fossil fuel'.lower().split())"
      ],
      "metadata": {
        "id": "MYf9OYRr5dAh"
      },
      "execution_count": 135,
      "outputs": []
    },
    {
      "cell_type": "code",
      "source": [
        "from sentence_transformers import SentenceTransformer\n",
        "model_sentence = SentenceTransformer('bert-base-nli-mean-tokens')"
      ],
      "metadata": {
        "id": "JG7_LmNo5qoj"
      },
      "execution_count": 136,
      "outputs": []
    },
    {
      "cell_type": "code",
      "source": [
        "keywords_embeddings = model_sentence.encode(keywords)\n",
        "ref_embeddings = model_sentence.encode(ref_list)"
      ],
      "metadata": {
        "id": "fJW_w71j88SM"
      },
      "execution_count": 149,
      "outputs": []
    },
    {
      "cell_type": "code",
      "source": [
        "def phrase_match(word_vec_orig, word_vec_reference):\n",
        "  print(np.count_nonzero(cosine_similarity(word_vec_reference, word_vec_orig) > 0.75))\n",
        "  if np.count_nonzero(cosine_similarity(word_vec_reference, word_vec_orig) > 0.75) > 1:\n",
        "    return \"Perfect Match\"\n",
        "  else:\n",
        "    return \"No Match\""
      ],
      "metadata": {
        "id": "XVbcq6pd-sNk"
      },
      "execution_count": 180,
      "outputs": []
    },
    {
      "cell_type": "code",
      "source": [
        "phrase_match(keywords_embeddings, ref_embeddings)"
      ],
      "metadata": {
        "colab": {
          "base_uri": "https://localhost:8080/",
          "height": 53
        },
        "id": "HOVe7AvbBRrB",
        "outputId": "ef6a3284-34df-4844-a9f7-e8abe4dfc6d4"
      },
      "execution_count": 181,
      "outputs": [
        {
          "output_type": "stream",
          "name": "stdout",
          "text": [
            "2\n"
          ]
        },
        {
          "output_type": "execute_result",
          "data": {
            "application/vnd.google.colaboratory.intrinsic+json": {
              "type": "string"
            },
            "text/plain": [
              "'Perfect Match'"
            ]
          },
          "metadata": {},
          "execution_count": 181
        }
      ]
    }
  ]
}